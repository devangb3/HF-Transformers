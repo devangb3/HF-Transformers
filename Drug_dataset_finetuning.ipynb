{
 "cells": [
  {
   "cell_type": "code",
   "execution_count": null,
   "metadata": {
    "id": "hi4nEPUUfktM"
   },
   "outputs": [],
   "source": [
    "from datasets import load_from_disk\n",
    "drug_dataset = load_from_disk(\"/content/drive/MyDrive/Datasets/Drug-Condition-Classification/drug-reviews\")"
   ]
  },
  {
   "cell_type": "code",
   "execution_count": null,
   "metadata": {
    "colab": {
     "base_uri": "https://localhost:8080/"
    },
    "id": "lYnHYeOgpxtX",
    "outputId": "a379dc3c-cbd1-4c62-90b7-7aa00ae24fa4"
   },
   "outputs": [
    {
     "name": "stdout",
     "output_type": "stream",
     "text": [
      "DatasetDict({\n",
      "    train: Dataset({\n",
      "        features: ['patient_id', 'drugName', 'condition', 'review', 'rating', 'date', 'usefulCount', 'review_length'],\n",
      "        num_rows: 126743\n",
      "    })\n",
      "    validation: Dataset({\n",
      "        features: ['patient_id', 'drugName', 'condition', 'review', 'rating', 'date', 'usefulCount', 'review_length'],\n",
      "        num_rows: 31686\n",
      "    })\n",
      "    test: Dataset({\n",
      "        features: ['patient_id', 'drugName', 'condition', 'review', 'rating', 'date', 'usefulCount', 'review_length'],\n",
      "        num_rows: 52825\n",
      "    })\n",
      "})\n"
     ]
    }
   ],
   "source": [
    "print(drug_dataset)"
   ]
  },
  {
   "cell_type": "code",
   "execution_count": null,
   "metadata": {
    "id": "6ucB8jrErUZ8"
   },
   "outputs": [],
   "source": [
    "from transformers import AutoTokenizer\n",
    "checkpoint = \"bert-base-cased\"\n",
    "tokenizer = AutoTokenizer.from_pretrained(checkpoint)"
   ]
  },
  {
   "cell_type": "code",
   "execution_count": null,
   "metadata": {
    "colab": {
     "base_uri": "https://localhost:8080/"
    },
    "id": "6UxjZ7F5whYj",
    "outputId": "1fb5d497-1494-407b-a5ae-e913d36d92cf"
   },
   "outputs": [
    {
     "name": "stdout",
     "output_type": "stream",
     "text": [
      "{'patient_id': 72006, 'drugName': 'Tramadol', 'condition': 'chronic pain', 'review': '\"Works well with controlling UTI.  This medication  will cause drowsiness.  Exactly what I needed was rest.  In my experience, about 30 minutes later, pain subsidies enough to tolerate.\"', 'rating': 10.0, 'date': 'September 21, 2015', 'usefulCount': 37, 'review_length': 186}\n"
     ]
    }
   ],
   "source": [
    "print(drug_dataset[\"train\"][0])"
   ]
  },
  {
   "cell_type": "code",
   "execution_count": null,
   "metadata": {
    "id": "wDORTKk0339b"
   },
   "outputs": [],
   "source": [
    "import html\n",
    "drug_dataset = drug_dataset.map(lambda x: {\"condition\": [html.unescape(o) for o in x[\"condition\"]]}, batched= True)"
   ]
  },
  {
   "cell_type": "code",
   "execution_count": null,
   "metadata": {
    "id": "0cAQqt3f76y5"
   },
   "outputs": [],
   "source": [
    "import re\n",
    "\n",
    "# This pattern looks for HTML tags or the specific \"users found...\" phrase\n",
    "# It also flags very short conditions that are likely abbreviations or errors.\n",
    "junk_pattern = re.compile(r'<.*?>|users found this comment helpful|^\\w{1,2}$')\n",
    "\n",
    "def is_clean(example):\n",
    "    \"\"\"\n",
    "    Checks if the 'condition' field is clean.\n",
    "    Returns True if clean, False if it contains junk.\n",
    "    \"\"\"\n",
    "    condition = example['condition']\n",
    "    if condition is None:\n",
    "        return False\n",
    "    if not condition.strip() or junk_pattern.search(condition):\n",
    "        return False\n",
    "    return True"
   ]
  },
  {
   "cell_type": "code",
   "execution_count": null,
   "metadata": {
    "id": "aOOuPSL17_l5"
   },
   "outputs": [],
   "source": [
    "cleaned_drug_dataset = drug_dataset.filter(is_clean)"
   ]
  },
  {
   "cell_type": "code",
   "execution_count": null,
   "metadata": {
    "colab": {
     "base_uri": "https://localhost:8080/"
    },
    "id": "IcAQvXQ68bUu",
    "outputId": "9b87bf3f-6bc6-44ff-fb58-a227b406d681"
   },
   "outputs": [
    {
     "name": "stdout",
     "output_type": "stream",
     "text": [
      "Number of clean, unique conditions: 821\n"
     ]
    }
   ],
   "source": [
    "# Get a sorted list of unique conditions from the cleaned dataset\n",
    "all_unique_conditions = sorted(list(set(cleaned_drug_dataset['train']['condition']).union(set(cleaned_drug_dataset['validation']['condition'])).union(set(cleaned_drug_dataset['test']['condition']))))\n",
    "num_labels = len(all_unique_conditions)\n",
    "\n",
    "print(f\"Number of clean, unique conditions: {num_labels}\")\n",
    "\n",
    "\n",
    "# Create the label mappings\n",
    "labels = {condition: i for i, condition in enumerate(all_unique_conditions)}\n",
    "id_to_label = {i: condition for i, condition in enumerate(all_unique_conditions)}"
   ]
  },
  {
   "cell_type": "code",
   "execution_count": null,
   "metadata": {
    "id": "vACJuE810JPt"
   },
   "outputs": [],
   "source": [
    "def condition_to_label(examples):\n",
    "  return {\"label\" : [labels[condition] for condition in examples['condition']]}\n",
    "cleaned_drug_dataset = cleaned_drug_dataset.map(condition_to_label, batched = True)"
   ]
  },
  {
   "cell_type": "code",
   "execution_count": null,
   "metadata": {
    "colab": {
     "base_uri": "https://localhost:8080/",
     "height": 49,
     "referenced_widgets": [
      "e704bb9564624c138bda87c1b7246559",
      "7e30fb1e8f554b70a22bd2442b42ba8c",
      "e5e8a42625eb4e5fab6019dc2b1d8da6",
      "779eb487ae6145c3b70e45cc978fd75e",
      "9fc0cf6e2fd34420b2e994aa50e14065",
      "67c30170ed814b5cac588aed12a35eb0",
      "37eaf4a5b50b462f88e65dc59e9c83b5",
      "52306af6bc25475db5a899249cbc8d9a",
      "d63242e5ed0d48d3b734047584b0a986",
      "38772635a7b64118802dac10ae35328f",
      "1ffce41b033a46c3ab0962ec329f174c"
     ]
    },
    "id": "fAB8pz1nvq4f",
    "outputId": "6a1db10c-3743-4803-8db5-8fc89ed0a000"
   },
   "outputs": [
    {
     "data": {
      "application/vnd.jupyter.widget-view+json": {
       "model_id": "e704bb9564624c138bda87c1b7246559",
       "version_major": 2,
       "version_minor": 0
      },
      "text/plain": [
       "Map:   0%|          | 0/126024 [00:00<?, ? examples/s]"
      ]
     },
     "metadata": {},
     "output_type": "display_data"
    }
   ],
   "source": [
    "def tokenize_function(example):\n",
    "  return tokenizer(example['review'], truncation = True)\n",
    "tokenized_dataset = cleaned_drug_dataset.map(tokenize_function, batched=True)"
   ]
  },
  {
   "cell_type": "code",
   "execution_count": null,
   "metadata": {
    "colab": {
     "base_uri": "https://localhost:8080/"
    },
    "id": "cZu9-y4ewuhK",
    "outputId": "e424e4e4-d946-4e0f-b228-5338b3f66c14"
   },
   "outputs": [
    {
     "name": "stdout",
     "output_type": "stream",
     "text": [
      "{'patient_id': 72006, 'drugName': 'Tramadol', 'condition': 'chronic pain', 'review': '\"Works well with controlling UTI.  This medication  will cause drowsiness.  Exactly what I needed was rest.  In my experience, about 30 minutes later, pain subsidies enough to tolerate.\"', 'rating': 10.0, 'date': 'September 21, 2015', 'usefulCount': 37, 'review_length': 186, 'label': 146, 'input_ids': [101, 107, 5853, 1218, 1114, 9783, 158, 21669, 119, 1188, 15683, 1209, 2612, 173, 20876, 8405, 119, 18342, 1184, 146, 1834, 1108, 1832, 119, 1130, 1139, 2541, 117, 1164, 1476, 1904, 1224, 117, 2489, 24708, 1536, 1106, 21073, 119, 107, 102], 'token_type_ids': [0, 0, 0, 0, 0, 0, 0, 0, 0, 0, 0, 0, 0, 0, 0, 0, 0, 0, 0, 0, 0, 0, 0, 0, 0, 0, 0, 0, 0, 0, 0, 0, 0, 0, 0, 0, 0, 0, 0, 0, 0], 'attention_mask': [1, 1, 1, 1, 1, 1, 1, 1, 1, 1, 1, 1, 1, 1, 1, 1, 1, 1, 1, 1, 1, 1, 1, 1, 1, 1, 1, 1, 1, 1, 1, 1, 1, 1, 1, 1, 1, 1, 1, 1, 1]}\n"
     ]
    }
   ],
   "source": [
    "print(tokenized_dataset[\"train\"][0])"
   ]
  },
  {
   "cell_type": "code",
   "execution_count": null,
   "metadata": {
    "collapsed": true,
    "id": "tJVRnjfMxQ0J"
   },
   "outputs": [],
   "source": [
    "tokenized_dataset = tokenized_dataset.remove_columns(['patient_id', 'review', 'date', 'review_length', 'drugName', 'usefulCount', 'rating', 'condition'])"
   ]
  },
  {
   "cell_type": "code",
   "execution_count": null,
   "metadata": {
    "colab": {
     "base_uri": "https://localhost:8080/"
    },
    "id": "LOdv7K8P53Lr",
    "outputId": "831a8c90-cb1b-4691-8721-54e7cf9997d2"
   },
   "outputs": [
    {
     "name": "stdout",
     "output_type": "stream",
     "text": [
      "DatasetDict({\n",
      "    train: Dataset({\n",
      "        features: ['label', 'input_ids', 'token_type_ids', 'attention_mask'],\n",
      "        num_rows: 126024\n",
      "    })\n",
      "    validation: Dataset({\n",
      "        features: ['label', 'input_ids', 'token_type_ids', 'attention_mask'],\n",
      "        num_rows: 31509\n",
      "    })\n",
      "    test: Dataset({\n",
      "        features: ['label', 'input_ids', 'token_type_ids', 'attention_mask'],\n",
      "        num_rows: 52554\n",
      "    })\n",
      "})\n"
     ]
    }
   ],
   "source": [
    "print(tokenized_dataset)"
   ]
  },
  {
   "cell_type": "code",
   "execution_count": null,
   "metadata": {
    "colab": {
     "base_uri": "https://localhost:8080/",
     "height": 113,
     "referenced_widgets": [
      "c43f2cd1fa2f4a5fa53d7b23587db748",
      "6f1cbc4597164375a9702d2c11d263bd",
      "5d063e817d854c2c940c94a73357f033",
      "74db021b2694457d9e628493318e7ff7",
      "2c974317a15f49dc9eb0a4c8e17f427d",
      "8260fc11b7374802aae520566dbe8a5f",
      "8a0edde6582d4797b9e5765e57fcbd23",
      "8b08e444f1a74c10b9246815e54587b4",
      "cd22cd42de8d4624a71649e427ff357e",
      "d145c0f263c040eeb21463776265aa72",
      "51292790829747e5afd2a063fc39ea37",
      "42a00f17d245451880233f0bc39cd9d2",
      "22f10af585cb4788a5b398bd96e464c9",
      "0637465bc3944d27b697ad4a7d9811ef",
      "3cd6567816ef491dbb553d71c95750b8",
      "5833e92a93864a148d0699c8e3e66704",
      "3db8882eed514687a07fe787cbd99ed4",
      "fe5ec76155024a49932650bae427d53d",
      "1e434a78220f42809f726af11c03342a",
      "a90e6882401e428f96c6a31a251f9295",
      "069248eda9c2464695400b5af9f5c878",
      "b9db7d683e7b4cd894f9552f94a396d8",
      "25c38c2c5d3246eb9f2a5aab1a592222",
      "c1fff908755145d5a706b515c8d08996",
      "5b30535b2c1b4616bf9ded9403d0bde6",
      "ff3fb0f6353045c4be62a6bd7d37fc67",
      "9e66419b5ced4bd184dc2b8884a541ed",
      "702db452d8234b97bcb862050ecc0cc6",
      "48c9da484abb4b64ae55a1b7df8f1045",
      "7ea09baeccae491eae79f97315f84bbb",
      "bfda2c7d8edb4b3e85ceb399f1ad5cc9",
      "19d2cf299e8749379b87676c7aae70ed",
      "c85d96fb6bed4c86b6527ee5c44fbb6d"
     ]
    },
    "id": "8rTzzBXUBFGo",
    "outputId": "25e0ef67-3d4d-4be9-843e-0e3d87f2887a"
   },
   "outputs": [
    {
     "data": {
      "application/vnd.jupyter.widget-view+json": {
       "model_id": "c43f2cd1fa2f4a5fa53d7b23587db748",
       "version_major": 2,
       "version_minor": 0
      },
      "text/plain": [
       "Saving the dataset (0/1 shards):   0%|          | 0/126024 [00:00<?, ? examples/s]"
      ]
     },
     "metadata": {},
     "output_type": "display_data"
    },
    {
     "data": {
      "application/vnd.jupyter.widget-view+json": {
       "model_id": "42a00f17d245451880233f0bc39cd9d2",
       "version_major": 2,
       "version_minor": 0
      },
      "text/plain": [
       "Saving the dataset (0/1 shards):   0%|          | 0/31509 [00:00<?, ? examples/s]"
      ]
     },
     "metadata": {},
     "output_type": "display_data"
    },
    {
     "data": {
      "application/vnd.jupyter.widget-view+json": {
       "model_id": "25c38c2c5d3246eb9f2a5aab1a592222",
       "version_major": 2,
       "version_minor": 0
      },
      "text/plain": [
       "Saving the dataset (0/1 shards):   0%|          | 0/52554 [00:00<?, ? examples/s]"
      ]
     },
     "metadata": {},
     "output_type": "display_data"
    }
   ],
   "source": [
    "tokenized_dataset.save_to_disk(\"/content/drive/MyDrive/Datasets/Drug-Condition-Classification/cleaned-drug-reviews\")"
   ]
  },
  {
   "cell_type": "markdown",
   "metadata": {
    "id": "JjBwz9J1EK77"
   },
   "source": [
    "# Training Model"
   ]
  },
  {
   "cell_type": "code",
   "execution_count": null,
   "metadata": {
    "id": "sjFBLyjMCrdL"
   },
   "outputs": [],
   "source": [
    "from datasets import load_from_disk\n",
    "mapped_tokenized_dataset = load_from_disk(\"/content/drive/MyDrive/Datasets/Drug-Condition-Classification/cleaned-drug-reviews\")"
   ]
  },
  {
   "cell_type": "code",
   "execution_count": null,
   "metadata": {
    "id": "sWtgOvYMEIA8"
   },
   "outputs": [],
   "source": [
    "from transformers import AutoTokenizer\n",
    "checkpoint = \"bert-base-cased\"\n",
    "tokenizer = AutoTokenizer.from_pretrained(checkpoint)"
   ]
  },
  {
   "cell_type": "code",
   "execution_count": null,
   "metadata": {
    "id": "dSwEZUTL6eLd"
   },
   "outputs": [],
   "source": [
    "from transformers import DataCollatorWithPadding\n",
    "data_collator = DataCollatorWithPadding(tokenizer=tokenizer)"
   ]
  },
  {
   "cell_type": "code",
   "execution_count": null,
   "metadata": {
    "id": "9rYoh3mf8bjI"
   },
   "outputs": [],
   "source": [
    "from transformers import TrainingArguments\n",
    "training_args = TrainingArguments(\"bert-drug-classification\", eval_strategy=\"epoch\")"
   ]
  },
  {
   "cell_type": "code",
   "execution_count": null,
   "metadata": {
    "colab": {
     "base_uri": "https://localhost:8080/"
    },
    "collapsed": true,
    "id": "46f4ffbf",
    "outputId": "545ea938-e642-4ee7-d622-a54d907d970c"
   },
   "outputs": [
    {
     "name": "stdout",
     "output_type": "stream",
     "text": [
      "Collecting evaluate\n",
      "  Downloading evaluate-0.4.6-py3-none-any.whl.metadata (9.5 kB)\n",
      "Requirement already satisfied: datasets>=2.0.0 in /usr/local/lib/python3.12/dist-packages (from evaluate) (4.0.0)\n",
      "Requirement already satisfied: numpy>=1.17 in /usr/local/lib/python3.12/dist-packages (from evaluate) (2.0.2)\n",
      "Requirement already satisfied: dill in /usr/local/lib/python3.12/dist-packages (from evaluate) (0.3.8)\n",
      "Requirement already satisfied: pandas in /usr/local/lib/python3.12/dist-packages (from evaluate) (2.2.2)\n",
      "Requirement already satisfied: requests>=2.19.0 in /usr/local/lib/python3.12/dist-packages (from evaluate) (2.32.4)\n",
      "Requirement already satisfied: tqdm>=4.62.1 in /usr/local/lib/python3.12/dist-packages (from evaluate) (4.67.1)\n",
      "Requirement already satisfied: xxhash in /usr/local/lib/python3.12/dist-packages (from evaluate) (3.5.0)\n",
      "Requirement already satisfied: multiprocess in /usr/local/lib/python3.12/dist-packages (from evaluate) (0.70.16)\n",
      "Requirement already satisfied: fsspec>=2021.05.0 in /usr/local/lib/python3.12/dist-packages (from fsspec[http]>=2021.05.0->evaluate) (2025.3.0)\n",
      "Requirement already satisfied: huggingface-hub>=0.7.0 in /usr/local/lib/python3.12/dist-packages (from evaluate) (0.35.0)\n",
      "Requirement already satisfied: packaging in /usr/local/lib/python3.12/dist-packages (from evaluate) (25.0)\n",
      "Requirement already satisfied: filelock in /usr/local/lib/python3.12/dist-packages (from datasets>=2.0.0->evaluate) (3.19.1)\n",
      "Requirement already satisfied: pyarrow>=15.0.0 in /usr/local/lib/python3.12/dist-packages (from datasets>=2.0.0->evaluate) (18.1.0)\n",
      "Requirement already satisfied: pyyaml>=5.1 in /usr/local/lib/python3.12/dist-packages (from datasets>=2.0.0->evaluate) (6.0.2)\n",
      "Requirement already satisfied: aiohttp!=4.0.0a0,!=4.0.0a1 in /usr/local/lib/python3.12/dist-packages (from fsspec[http]>=2021.05.0->evaluate) (3.12.15)\n",
      "Requirement already satisfied: typing-extensions>=3.7.4.3 in /usr/local/lib/python3.12/dist-packages (from huggingface-hub>=0.7.0->evaluate) (4.15.0)\n",
      "Requirement already satisfied: hf-xet<2.0.0,>=1.1.3 in /usr/local/lib/python3.12/dist-packages (from huggingface-hub>=0.7.0->evaluate) (1.1.10)\n",
      "Requirement already satisfied: charset_normalizer<4,>=2 in /usr/local/lib/python3.12/dist-packages (from requests>=2.19.0->evaluate) (3.4.3)\n",
      "Requirement already satisfied: idna<4,>=2.5 in /usr/local/lib/python3.12/dist-packages (from requests>=2.19.0->evaluate) (3.10)\n",
      "Requirement already satisfied: urllib3<3,>=1.21.1 in /usr/local/lib/python3.12/dist-packages (from requests>=2.19.0->evaluate) (2.5.0)\n",
      "Requirement already satisfied: certifi>=2017.4.17 in /usr/local/lib/python3.12/dist-packages (from requests>=2.19.0->evaluate) (2025.8.3)\n",
      "Requirement already satisfied: python-dateutil>=2.8.2 in /usr/local/lib/python3.12/dist-packages (from pandas->evaluate) (2.9.0.post0)\n",
      "Requirement already satisfied: pytz>=2020.1 in /usr/local/lib/python3.12/dist-packages (from pandas->evaluate) (2025.2)\n",
      "Requirement already satisfied: tzdata>=2022.7 in /usr/local/lib/python3.12/dist-packages (from pandas->evaluate) (2025.2)\n",
      "Requirement already satisfied: aiohappyeyeballs>=2.5.0 in /usr/local/lib/python3.12/dist-packages (from aiohttp!=4.0.0a0,!=4.0.0a1->fsspec[http]>=2021.05.0->evaluate) (2.6.1)\n",
      "Requirement already satisfied: aiosignal>=1.4.0 in /usr/local/lib/python3.12/dist-packages (from aiohttp!=4.0.0a0,!=4.0.0a1->fsspec[http]>=2021.05.0->evaluate) (1.4.0)\n",
      "Requirement already satisfied: attrs>=17.3.0 in /usr/local/lib/python3.12/dist-packages (from aiohttp!=4.0.0a0,!=4.0.0a1->fsspec[http]>=2021.05.0->evaluate) (25.3.0)\n",
      "Requirement already satisfied: frozenlist>=1.1.1 in /usr/local/lib/python3.12/dist-packages (from aiohttp!=4.0.0a0,!=4.0.0a1->fsspec[http]>=2021.05.0->evaluate) (1.7.0)\n",
      "Requirement already satisfied: multidict<7.0,>=4.5 in /usr/local/lib/python3.12/dist-packages (from aiohttp!=4.0.0a0,!=4.0.0a1->fsspec[http]>=2021.05.0->evaluate) (6.6.4)\n",
      "Requirement already satisfied: propcache>=0.2.0 in /usr/local/lib/python3.12/dist-packages (from aiohttp!=4.0.0a0,!=4.0.0a1->fsspec[http]>=2021.05.0->evaluate) (0.3.2)\n",
      "Requirement already satisfied: yarl<2.0,>=1.17.0 in /usr/local/lib/python3.12/dist-packages (from aiohttp!=4.0.0a0,!=4.0.0a1->fsspec[http]>=2021.05.0->evaluate) (1.20.1)\n",
      "Requirement already satisfied: six>=1.5 in /usr/local/lib/python3.12/dist-packages (from python-dateutil>=2.8.2->pandas->evaluate) (1.17.0)\n",
      "Downloading evaluate-0.4.6-py3-none-any.whl (84 kB)\n",
      "\u001b[2K   \u001b[90m\u2501\u2501\u2501\u2501\u2501\u2501\u2501\u2501\u2501\u2501\u2501\u2501\u2501\u2501\u2501\u2501\u2501\u2501\u2501\u2501\u2501\u2501\u2501\u2501\u2501\u2501\u2501\u2501\u2501\u2501\u2501\u2501\u2501\u2501\u2501\u2501\u2501\u2501\u2501\u2501\u001b[0m \u001b[32m84.1/84.1 kB\u001b[0m \u001b[31m7.5 MB/s\u001b[0m eta \u001b[36m0:00:00\u001b[0m\n",
      "\u001b[?25hInstalling collected packages: evaluate\n",
      "Successfully installed evaluate-0.4.6\n"
     ]
    }
   ],
   "source": [
    "!pip install evaluate"
   ]
  },
  {
   "cell_type": "code",
   "execution_count": null,
   "metadata": {
    "id": "d0d30793"
   },
   "outputs": [],
   "source": [
    "import evaluate\n",
    "import numpy as np\n",
    "\n",
    "def compute_metric(eval_preds):\n",
    "  metric = evaluate.load(\"accuracy\")\n",
    "  logits, labels = eval_preds\n",
    "  predictions = np.argmax(logits, axis=-1)\n",
    "  return metric.compute(predictions=predictions, references=labels)"
   ]
  },
  {
   "cell_type": "code",
   "execution_count": null,
   "metadata": {
    "colab": {
     "base_uri": "https://localhost:8080/",
     "height": 104,
     "referenced_widgets": [
      "a8f03c1bd3554ccdb1a3d71ab472aa80",
      "c22d5c18dc39400382b5cda32bfef8c6",
      "f8badb3772784bd2b5129cf685f68fd5",
      "1e872b81174845d89d60ed4a72f1335e",
      "dc7af3da040e4c0aa58c6b1da1f31ab1",
      "90a1371ab11849598530c822a228e701",
      "9a390ce9461b4b65b65e5421bca4d93f",
      "b6880d66ae3a426298f1e9602bd77758",
      "34d69d91cc6d4a3288ce4cf61f273d1c",
      "dc39ab689995436b88a0327bd1180306",
      "1aee02483e55426aa7dacf5f08b9e106"
     ]
    },
    "id": "5ypx5vH1-xKk",
    "outputId": "3e83936c-73fb-4818-ff17-6d854904d286"
   },
   "outputs": [
    {
     "data": {
      "application/vnd.jupyter.widget-view+json": {
       "model_id": "a8f03c1bd3554ccdb1a3d71ab472aa80",
       "version_major": 2,
       "version_minor": 0
      },
      "text/plain": [
       "model.safetensors:   0%|          | 0.00/436M [00:00<?, ?B/s]"
      ]
     },
     "metadata": {},
     "output_type": "display_data"
    },
    {
     "name": "stderr",
     "output_type": "stream",
     "text": [
      "Some weights of BertForSequenceClassification were not initialized from the model checkpoint at bert-base-cased and are newly initialized: ['classifier.bias', 'classifier.weight']\n",
      "You should probably TRAIN this model on a down-stream task to be able to use it for predictions and inference.\n"
     ]
    }
   ],
   "source": [
    "from transformers import AutoModelForSequenceClassification\n",
    "model = AutoModelForSequenceClassification.from_pretrained(\n",
    "    checkpoint,\n",
    "    num_labels=num_labels, # Use the new count of clean labels\n",
    "    id2label=id_to_label,  # Pass the mapping directly\n",
    "    label2id=labels)"
   ]
  },
  {
   "cell_type": "code",
   "execution_count": null,
   "metadata": {
    "colab": {
     "base_uri": "https://localhost:8080/"
    },
    "id": "rKh4nkF38-i-",
    "outputId": "257fb716-3622-464f-8f6f-4e56102626bb"
   },
   "outputs": [
    {
     "name": "stderr",
     "output_type": "stream",
     "text": [
      "/tmp/ipython-input-2742862241.py:2: FutureWarning: `tokenizer` is deprecated and will be removed in version 5.0.0 for `Trainer.__init__`. Use `processing_class` instead.\n",
      "  trainer = Trainer(\n"
     ]
    }
   ],
   "source": [
    "from transformers import Trainer\n",
    "trainer = Trainer(\n",
    "    model,\n",
    "    training_args,\n",
    "    train_dataset = mapped_tokenized_dataset[\"train\"],\n",
    "    eval_dataset = mapped_tokenized_dataset[\"validation\"],\n",
    "    data_collator = data_collator,\n",
    "    tokenizer = tokenizer,\n",
    "    compute_metrics = compute_metric\n",
    ")"
   ]
  },
  {
   "cell_type": "code",
   "execution_count": null,
   "metadata": {
    "colab": {
     "base_uri": "https://localhost:8080/"
    },
    "id": "xXH0JvAdAoC8",
    "outputId": "8982081c-5d5f-44ba-9003-0edf26386445"
   },
   "outputs": [
    {
     "name": "stdout",
     "output_type": "stream",
     "text": [
      "Using device: cuda\n"
     ]
    }
   ],
   "source": [
    "import torch\n",
    "device = torch.device(\"cuda\" if torch.cuda.is_available() else \"cpu\")\n",
    "print(f\"Using device: {device}\")"
   ]
  },
  {
   "cell_type": "code",
   "execution_count": null,
   "metadata": {
    "colab": {
     "base_uri": "https://localhost:8080/",
     "height": 551,
     "referenced_widgets": [
      "850e843f438f4d53b96296c9dbbdb856",
      "c74e03fde4c14614bf1dd46390197105",
      "f77f13689c8b4b59bd148715db442b4a",
      "09e91245f22b4659b028c62f434291a8",
      "96d47d87b15e4eb992c6f17329e3796d",
      "6f914d29145a4def9b41cf47617d8c66",
      "cfa4735c0600441baccd9fbddc3bd4ba",
      "010bc1c244f146af87b98262f96ab67e",
      "41b03b159ca346b3a0422bbc490f3de5",
      "9fc110fa7b474362bacc1608cc0c71ca",
      "ea2aff79eb8b4e9cb4571a134572f3f2"
     ]
    },
    "collapsed": true,
    "id": "J-AgVYXo-YyM",
    "outputId": "1c4c2b70-6c82-41f6-f01b-c4a1178cba3b"
   },
   "outputs": [
    {
     "name": "stderr",
     "output_type": "stream",
     "text": [
      "/usr/local/lib/python3.12/dist-packages/notebook/notebookapp.py:191: SyntaxWarning: invalid escape sequence '\\/'\n",
      "  | |_| | '_ \\/ _` / _` |  _/ -_)\n"
     ]
    },
    {
     "data": {
      "application/javascript": "\n        window._wandbApiKey = new Promise((resolve, reject) => {\n            function loadScript(url) {\n            return new Promise(function(resolve, reject) {\n                let newScript = document.createElement(\"script\");\n                newScript.onerror = reject;\n                newScript.onload = resolve;\n                document.body.appendChild(newScript);\n                newScript.src = url;\n            });\n            }\n            loadScript(\"https://cdn.jsdelivr.net/npm/postmate/build/postmate.min.js\").then(() => {\n            const iframe = document.createElement('iframe')\n            iframe.style.cssText = \"width:0;height:0;border:none\"\n            document.body.appendChild(iframe)\n            const handshake = new Postmate({\n                container: iframe,\n                url: 'https://wandb.ai/authorize'\n            });\n            const timeout = setTimeout(() => reject(\"Couldn't auto authenticate\"), 5000)\n            handshake.then(function(child) {\n                child.on('authorize', data => {\n                    clearTimeout(timeout)\n                    resolve(data)\n                });\n            });\n            })\n        });\n    ",
      "text/plain": [
       "<IPython.core.display.Javascript object>"
      ]
     },
     "metadata": {},
     "output_type": "display_data"
    },
    {
     "name": "stderr",
     "output_type": "stream",
     "text": [
      "\u001b[34m\u001b[1mwandb\u001b[0m: Logging into wandb.ai. (Learn how to deploy a W&B server locally: https://wandb.me/wandb-server)\n",
      "\u001b[34m\u001b[1mwandb\u001b[0m: You can find your API key in your browser here: https://wandb.ai/authorize?ref=models\n",
      "wandb: Paste an API key from your profile and hit enter:"
     ]
    },
    {
     "name": "stdout",
     "output_type": "stream",
     "text": [
      " \u00b7\u00b7\u00b7\u00b7\u00b7\u00b7\u00b7\u00b7\u00b7\u00b7\n"
     ]
    },
    {
     "name": "stderr",
     "output_type": "stream",
     "text": [
      "\u001b[34m\u001b[1mwandb\u001b[0m: \u001b[33mWARNING\u001b[0m If you're specifying your api key in code, ensure this code is not shared publicly.\n",
      "\u001b[34m\u001b[1mwandb\u001b[0m: \u001b[33mWARNING\u001b[0m Consider setting the WANDB_API_KEY environment variable, or running `wandb login` from the command line.\n",
      "\u001b[34m\u001b[1mwandb\u001b[0m: No netrc file found, creating one.\n",
      "\u001b[34m\u001b[1mwandb\u001b[0m: Appending key for api.wandb.ai to your netrc file: /root/.netrc\n",
      "\u001b[34m\u001b[1mwandb\u001b[0m: Currently logged in as: \u001b[33mdevangborkar3\u001b[0m (\u001b[33mdevangborkar3-uc-davis\u001b[0m) to \u001b[32mhttps://api.wandb.ai\u001b[0m. Use \u001b[1m`wandb login --relogin`\u001b[0m to force relogin\n"
     ]
    },
    {
     "data": {
      "text/html": [],
      "text/plain": [
       "<IPython.core.display.HTML object>"
      ]
     },
     "metadata": {},
     "output_type": "display_data"
    },
    {
     "data": {
      "text/html": [
       "Tracking run with wandb version 0.21.4"
      ],
      "text/plain": [
       "<IPython.core.display.HTML object>"
      ]
     },
     "metadata": {},
     "output_type": "display_data"
    },
    {
     "data": {
      "text/html": [
       "Run data is saved locally in <code>/content/wandb/run-20250928_203617-y6cvonfq</code>"
      ],
      "text/plain": [
       "<IPython.core.display.HTML object>"
      ]
     },
     "metadata": {},
     "output_type": "display_data"
    },
    {
     "data": {
      "text/html": [
       "Syncing run <strong><a href='https://wandb.ai/devangborkar3-uc-davis/huggingface/runs/y6cvonfq' target=\"_blank\">exalted-leaf-16</a></strong> to <a href='https://wandb.ai/devangborkar3-uc-davis/huggingface' target=\"_blank\">Weights & Biases</a> (<a href='https://wandb.me/developer-guide' target=\"_blank\">docs</a>)<br>"
      ],
      "text/plain": [
       "<IPython.core.display.HTML object>"
      ]
     },
     "metadata": {},
     "output_type": "display_data"
    },
    {
     "data": {
      "text/html": [
       " View project at <a href='https://wandb.ai/devangborkar3-uc-davis/huggingface' target=\"_blank\">https://wandb.ai/devangborkar3-uc-davis/huggingface</a>"
      ],
      "text/plain": [
       "<IPython.core.display.HTML object>"
      ]
     },
     "metadata": {},
     "output_type": "display_data"
    },
    {
     "data": {
      "text/html": [
       " View run at <a href='https://wandb.ai/devangborkar3-uc-davis/huggingface/runs/y6cvonfq' target=\"_blank\">https://wandb.ai/devangborkar3-uc-davis/huggingface/runs/y6cvonfq</a>"
      ],
      "text/plain": [
       "<IPython.core.display.HTML object>"
      ]
     },
     "metadata": {},
     "output_type": "display_data"
    },
    {
     "data": {
      "text/html": [
       "\n",
       "    <div>\n",
       "      \n",
       "      <progress value='47259' max='47259' style='width:300px; height:20px; vertical-align: middle;'></progress>\n",
       "      [47259/47259 1:01:59, Epoch 3/3]\n",
       "    </div>\n",
       "    <table border=\"1\" class=\"dataframe\">\n",
       "  <thead>\n",
       " <tr style=\"text-align: left;\">\n",
       "      <th>Epoch</th>\n",
       "      <th>Training Loss</th>\n",
       "      <th>Validation Loss</th>\n",
       "      <th>Accuracy</th>\n",
       "    </tr>\n",
       "  </thead>\n",
       "  <tbody>\n",
       "    <tr>\n",
       "      <td>1</td>\n",
       "      <td>1.487500</td>\n",
       "      <td>1.437285</td>\n",
       "      <td>0.667428</td>\n",
       "    </tr>\n",
       "    <tr>\n",
       "      <td>2</td>\n",
       "      <td>1.135100</td>\n",
       "      <td>1.182855</td>\n",
       "      <td>0.721826</td>\n",
       "    </tr>\n",
       "    <tr>\n",
       "      <td>3</td>\n",
       "      <td>0.775000</td>\n",
       "      <td>1.079257</td>\n",
       "      <td>0.754165</td>\n",
       "    </tr>\n",
       "  </tbody>\n",
       "</table><p>"
      ],
      "text/plain": [
       "<IPython.core.display.HTML object>"
      ]
     },
     "metadata": {},
     "output_type": "display_data"
    },
    {
     "data": {
      "application/vnd.jupyter.widget-view+json": {
       "model_id": "850e843f438f4d53b96296c9dbbdb856",
       "version_major": 2,
       "version_minor": 0
      },
      "text/plain": [
       "Downloading builder script: 0.00B [00:00, ?B/s]"
      ]
     },
     "metadata": {},
     "output_type": "display_data"
    },
    {
     "data": {
      "text/plain": [
       "TrainOutput(global_step=47259, training_loss=1.3506367387837999, metrics={'train_runtime': 3734.3687, 'train_samples_per_second': 101.241, 'train_steps_per_second': 12.655, 'total_flos': 3.706344216797966e+16, 'train_loss': 1.3506367387837999, 'epoch': 3.0})"
      ]
     },
     "execution_count": 28,
     "metadata": {},
     "output_type": "execute_result"
    }
   ],
   "source": [
    "trainer.train()"
   ]
  },
  {
   "cell_type": "markdown",
   "metadata": {
    "id": "_HMcgK2qZNhW"
   },
   "source": [
    "# Testing the **model**"
   ]
  },
  {
   "cell_type": "code",
   "execution_count": null,
   "metadata": {
    "colab": {
     "base_uri": "https://localhost:8080/",
     "height": 74
    },
    "id": "ba41a71e",
    "outputId": "71fe36fe-b3b8-4b0e-c527-6ed6290b7f8b"
   },
   "outputs": [
    {
     "data": {
      "text/html": [
       "\n",
       "    <div>\n",
       "      \n",
       "      <progress value='6570' max='6570' style='width:300px; height:20px; vertical-align: middle;'></progress>\n",
       "      [6570/6570 02:35]\n",
       "    </div>\n",
       "    "
      ],
      "text/plain": [
       "<IPython.core.display.HTML object>"
      ]
     },
     "metadata": {},
     "output_type": "display_data"
    },
    {
     "name": "stdout",
     "output_type": "stream",
     "text": [
      "{'eval_loss': 1.0535321235656738, 'eval_accuracy': 0.7593522852684857, 'eval_runtime': 157.2599, 'eval_samples_per_second': 334.186, 'eval_steps_per_second': 41.778, 'epoch': 3.0}\n"
     ]
    }
   ],
   "source": [
    "test_results = trainer.evaluate(mapped_tokenized_dataset[\"test\"])\n",
    "print(test_results)"
   ]
  },
  {
   "cell_type": "code",
   "execution_count": null,
   "metadata": {
    "colab": {
     "base_uri": "https://localhost:8080/",
     "height": 459
    },
    "id": "f02d7941",
    "outputId": "c21a6d40-11b6-425f-9e12-b78848b49577"
   },
   "outputs": [
    {
     "data": {
      "text/html": [
       "\n",
       "    <div>\n",
       "      \n",
       "      <progress value='9028' max='6570' style='width:300px; height:20px; vertical-align: middle;'></progress>\n",
       "      [6570/6570 03:52]\n",
       "    </div>\n",
       "    "
      ],
      "text/plain": [
       "<IPython.core.display.HTML object>"
      ]
     },
     "metadata": {},
     "output_type": "display_data"
    },
    {
     "name": "stdout",
     "output_type": "stream",
     "text": [
      "Error in callback <bound method _WandbInit._post_run_cell_hook of <wandb.sdk.wandb_init._WandbInit object at 0x79fcb412f560>> (for post_run_cell):\n"
     ]
    },
    {
     "name": "stderr",
     "output_type": "stream",
     "text": [
      "\n",
      "KeyboardInterrupt\n",
      "\n"
     ]
    },
    {
     "ename": "KeyboardInterrupt",
     "evalue": "",
     "output_type": "error",
     "traceback": [
      "\u001b[0;31m---------------------------------------------------------------------------\u001b[0m",
      "\u001b[0;31mKeyboardInterrupt\u001b[0m                         Traceback (most recent call last)",
      "\u001b[0;32m/usr/local/lib/python3.12/dist-packages/wandb/sdk/wandb_init.py\u001b[0m in \u001b[0;36m_post_run_cell_hook\u001b[0;34m(self, *args, **kwargs)\u001b[0m\n\u001b[1;32m    573\u001b[0m             \u001b[0;32mreturn\u001b[0m\u001b[0;34m\u001b[0m\u001b[0;34m\u001b[0m\u001b[0m\n\u001b[1;32m    574\u001b[0m \u001b[0;34m\u001b[0m\u001b[0m\n\u001b[0;32m--> 575\u001b[0;31m         \u001b[0mself\u001b[0m\u001b[0;34m.\u001b[0m\u001b[0m_logger\u001b[0m\u001b[0;34m.\u001b[0m\u001b[0minfo\u001b[0m\u001b[0;34m(\u001b[0m\u001b[0;34m\"resuming backend\"\u001b[0m\u001b[0;34m)\u001b[0m\u001b[0;34m\u001b[0m\u001b[0;34m\u001b[0m\u001b[0m\n\u001b[0m\u001b[1;32m    576\u001b[0m         \u001b[0mself\u001b[0m\u001b[0;34m.\u001b[0m\u001b[0mbackend\u001b[0m\u001b[0;34m.\u001b[0m\u001b[0minterface\u001b[0m\u001b[0;34m.\u001b[0m\u001b[0mpublish_resume\u001b[0m\u001b[0;34m(\u001b[0m\u001b[0;34m)\u001b[0m\u001b[0;34m\u001b[0m\u001b[0;34m\u001b[0m\u001b[0m\n\u001b[1;32m    577\u001b[0m \u001b[0;34m\u001b[0m\u001b[0m\n",
      "\u001b[0;32m/usr/lib/python3.12/logging/__init__.py\u001b[0m in \u001b[0;36minfo\u001b[0;34m(self, msg, *args, **kwargs)\u001b[0m\n\u001b[1;32m   1537\u001b[0m         \"\"\"\n\u001b[1;32m   1538\u001b[0m         \u001b[0;32mif\u001b[0m \u001b[0mself\u001b[0m\u001b[0;34m.\u001b[0m\u001b[0misEnabledFor\u001b[0m\u001b[0;34m(\u001b[0m\u001b[0mINFO\u001b[0m\u001b[0;34m)\u001b[0m\u001b[0;34m:\u001b[0m\u001b[0;34m\u001b[0m\u001b[0;34m\u001b[0m\u001b[0m\n\u001b[0;32m-> 1539\u001b[0;31m             \u001b[0mself\u001b[0m\u001b[0;34m.\u001b[0m\u001b[0m_log\u001b[0m\u001b[0;34m(\u001b[0m\u001b[0mINFO\u001b[0m\u001b[0;34m,\u001b[0m \u001b[0mmsg\u001b[0m\u001b[0;34m,\u001b[0m \u001b[0margs\u001b[0m\u001b[0;34m,\u001b[0m \u001b[0;34m**\u001b[0m\u001b[0mkwargs\u001b[0m\u001b[0;34m)\u001b[0m\u001b[0;34m\u001b[0m\u001b[0;34m\u001b[0m\u001b[0m\n\u001b[0m\u001b[1;32m   1540\u001b[0m \u001b[0;34m\u001b[0m\u001b[0m\n\u001b[1;32m   1541\u001b[0m     \u001b[0;32mdef\u001b[0m \u001b[0mwarning\u001b[0m\u001b[0;34m(\u001b[0m\u001b[0mself\u001b[0m\u001b[0;34m,\u001b[0m \u001b[0mmsg\u001b[0m\u001b[0;34m,\u001b[0m \u001b[0;34m*\u001b[0m\u001b[0margs\u001b[0m\u001b[0;34m,\u001b[0m \u001b[0;34m**\u001b[0m\u001b[0mkwargs\u001b[0m\u001b[0;34m)\u001b[0m\u001b[0;34m:\u001b[0m\u001b[0;34m\u001b[0m\u001b[0;34m\u001b[0m\u001b[0m\n",
      "\u001b[0;31mKeyboardInterrupt\u001b[0m: "
     ]
    }
   ],
   "source": [
    "import numpy as np\n",
    "from sklearn.metrics import accuracy_score, precision_recall_fscore_support\n",
    "import torch\n",
    "\n",
    "# Get predictions from the model on the test set\n",
    "predictions = trainer.predict(mapped_tokenized_dataset[\"test\"])\n",
    "\n",
    "# Extract logits and labels\n",
    "logits = predictions.predictions\n",
    "labels = predictions.label_ids\n",
    "\n",
    "# Get the predicted class indices\n",
    "predicted_labels = np.argmax(logits, axis=-1)\n",
    "\n",
    "# Calculate metrics\n",
    "accuracy = accuracy_score(labels, predicted_labels)\n",
    "precision, recall, f1, _ = precision_recall_fscore_support(labels, predicted_labels, average='weighted')\n",
    "\n",
    "print(f\"Accuracy: {accuracy}\")\n",
    "print(f\"Precision (weighted): {precision}\")\n",
    "print(f\"Recall (weighted): {recall}\")\n",
    "print(f\"F1-score (weighted): {f1}\")"
   ]
  },
  {
   "cell_type": "markdown",
   "metadata": {
    "id": "cdb6Tt5RY4b0"
   },
   "source": [
    "# Save model to Hugging Face"
   ]
  },
  {
   "cell_type": "code",
   "execution_count": null,
   "metadata": {
    "colab": {
     "base_uri": "https://localhost:8080/",
     "height": 17,
     "referenced_widgets": [
      "44c3bfd33cff4099a6d377c11ddca685",
      "2c19a17278ef4ad89de8d533a023d994",
      "ea06897ddcae4eaebc23e77d1ccdbd10",
      "b55d97c8038d4d95be527ae5c160adef",
      "7da389bfe2e4434eaf2818139819c33e",
      "1ad756d90fe74eb9a1ee4b8ebc8058ad",
      "8647517fe11d43ad99beb0a5c731ce5c",
      "f6c9e6ab7265412f8e2de11e406b4027",
      "32a9a9f5756643f08023190b53279366",
      "fc1955a8e22c46319cbab9827256d11a",
      "3d70f8fa4e8242e7b9df064cc2634f53",
      "ca58c1141fd942e998fb93a47426504f",
      "395cf0e4cc7342e3b41bab05fd3b1e21",
      "409b5851deb4450588e834db75992f80",
      "e3d9c8620034478abb38eb2b16cf16e8",
      "2a98871b1d5043509020b3d91b375106",
      "7fda66483ca84f02851c52f8826c1745",
      "e5e0217cac944beb952f654dcbc2e208",
      "093634e458cb456a9221951e1a49a603",
      "1821ba57b38f4b3f9fc2902bfbe11a8c"
     ]
    },
    "id": "nsGunILHNm0h",
    "outputId": "67dcc274-c041-4ee4-8e18-c82cef875fc1"
   },
   "outputs": [
    {
     "data": {
      "application/vnd.jupyter.widget-view+json": {
       "model_id": "44c3bfd33cff4099a6d377c11ddca685",
       "version_major": 2,
       "version_minor": 0
      },
      "text/plain": [
       "VBox(children=(HTML(value='<center> <img\\nsrc=https://huggingface.co/front/assets/huggingface_logo-noborder.sv\u2026"
      ]
     },
     "metadata": {},
     "output_type": "display_data"
    }
   ],
   "source": [
    "from huggingface_hub import notebook_login\n",
    "notebook_login()"
   ]
  },
  {
   "cell_type": "code",
   "execution_count": null,
   "metadata": {
    "colab": {
     "base_uri": "https://localhost:8080/",
     "height": 331,
     "referenced_widgets": [
      "4e1be29c142d45aa803b09e8b13a312f",
      "3b1746906af04bca85c06b101027f872",
      "8b871f0976bc4d638e6c764547f7c5c5",
      "334be244cda2402592a2c2472aefed99",
      "d94d3463383c4bc0847dce7e138fbdc1",
      "f0fcbbcb5d494fb4b2c1d7081c2ba8de",
      "b08d13a7dcd248b0b3d75e23a43f4beb",
      "b450696ef3124983bde9c0ee55ffbef8",
      "30196ac6c8a6451bba0e5a440bacc3f9",
      "ec5b6f01f4c3413db9901793da8c89a1",
      "4f998490a6984d928e5f15612dd2366f",
      "501adb97afcd4f8eb8b63d66e878e294",
      "2740ecb12efb41d798de07035a3c945a",
      "80803d4004d94c83957a2fa30cd242f6",
      "ebe64db034a349068349126948c80680",
      "001348ee2afd45d9b5f202e9a0dc77b3",
      "2f3148ea4c674e73a2fc1af128bb0ba1",
      "a38feae66281429d9a965387004f82b3",
      "be531fe3e3dc4a89ba564f593e4772bb",
      "e7313a7bc0d4443cb7afb239721fcb55",
      "28277772a29341aabefac46232ac1b36",
      "d69ba9a2a2ed4f44a75c9b5a2b2c6387",
      "3198cc7b4de045bda5c34419e492979b",
      "2113fe9a508a43ee9abf8091662775ab",
      "df5e8f99ced04610aac668c35f72890a",
      "135f4867f75141bba4ab51bf0e3af36e",
      "e33685d449c54b6693427ec501b08c58",
      "3010d250e8b44685a7c16fd0f59c6c28",
      "778a0a255dc64464ac161b2d018f4a64",
      "bb9f5c6ecb1b49e19cf47c01c5dc5c53",
      "d9de00142abb45b5936f9af6f817e0ef",
      "bd9b6c9bdefd440fac19150a9d4e5d05",
      "2ab2f03812d745e1aff246ef6860c011",
      "b7cfac5cc6924828985d2b9af4d91835",
      "ef99c79ac73f4303897200336c4fb236",
      "6c9b0d7a03594428aed319a963767e4f",
      "483d1023b3f844fdbbd9780142f32525",
      "e19ec3016e444c2aa5ba5e23e6c977c2",
      "6f33ddeafc5a4450abce800d11af956d",
      "02bc48190b274929b881249c0bf40799",
      "0f97dedd07f643269ba4db6b5f7fb77c",
      "1d381ef879bc473297a074bec3d476b1",
      "9d79d34637c348aa843a608e798264e0",
      "5192fb6218284b389ab8d5ad84e4d617",
      "cfadb6d391a84ee8acee1e6cdec945c4",
      "7acb017aac1445d892598218bdbdba97",
      "25594882096c48148361b35a93ad90d9",
      "7049ab05157646028fa2f460403f8047",
      "55b57ae516bf452aa1b907b5a57ae08f",
      "6c42ddb140e744c59bcdf0944c6ba49f",
      "d0ad4b3b07e8457f937341130815be43",
      "84c483607cdc46fe9d628767ca0fd920",
      "e42a84aec12747c38ba587edcd91d139",
      "36432ab57e9e4bfe868a11c27434f6f1",
      "3a0846509d6747349b52553c0f3acef4",
      "e9908eda0d2a4fe0bddc3ecba43a5753",
      "5317ae306f8f46d994ad9df0be38edfa",
      "0bc4b848ee5e413fb4e9fe16af336477",
      "0301a73b1cb14dcb94b6aac26ba87e9a",
      "c9dbb8090ef94de39cf7876215c794e3",
      "b35902cb8b504955910a8eb4ea1b6552",
      "45432935aba5415698d8e0350671e57e",
      "9c907cf7cf4d4e078bdbf3273280a8a0",
      "f0940a918077456184fdc4e9e35d8377",
      "e78e35d9c2404ebebaa9001b45eaee0c",
      "0e6d74332ebc439297e92202aaf7b4e2"
     ]
    },
    "id": "FXvblFT_NrOL",
    "outputId": "f5e6f53b-9ffc-45d8-a172-5fe3e4f0e076"
   },
   "outputs": [
    {
     "data": {
      "application/vnd.jupyter.widget-view+json": {
       "model_id": "4e1be29c142d45aa803b09e8b13a312f",
       "version_major": 2,
       "version_minor": 0
      },
      "text/plain": [
       "Processing Files (0 / 0)      : |          |  0.00B /  0.00B            "
      ]
     },
     "metadata": {},
     "output_type": "display_data"
    },
    {
     "data": {
      "application/vnd.jupyter.widget-view+json": {
       "model_id": "501adb97afcd4f8eb8b63d66e878e294",
       "version_major": 2,
       "version_minor": 0
      },
      "text/plain": [
       "New Data Upload               : |          |  0.00B /  0.00B            "
      ]
     },
     "metadata": {},
     "output_type": "display_data"
    },
    {
     "data": {
      "application/vnd.jupyter.widget-view+json": {
       "model_id": "3198cc7b4de045bda5c34419e492979b",
       "version_major": 2,
       "version_minor": 0
      },
      "text/plain": [
       "  ...ication/model.safetensors:   0%|          |  558kB /  436MB            "
      ]
     },
     "metadata": {},
     "output_type": "display_data"
    },
    {
     "data": {
      "application/vnd.jupyter.widget-view+json": {
       "model_id": "b7cfac5cc6924828985d2b9af4d91835",
       "version_major": 2,
       "version_minor": 0
      },
      "text/plain": [
       "  ...091765.83723f457ee4.671.0:   2%|1         | 1.35kB / 82.0kB            "
      ]
     },
     "metadata": {},
     "output_type": "display_data"
    },
    {
     "data": {
      "application/vnd.jupyter.widget-view+json": {
       "model_id": "cfadb6d391a84ee8acee1e6cdec945c4",
       "version_major": 2,
       "version_minor": 0
      },
      "text/plain": [
       "  ...095727.83723f457ee4.671.1:   1%|1         |  6.00B /   417B            "
      ]
     },
     "metadata": {},
     "output_type": "display_data"
    },
    {
     "data": {
      "application/vnd.jupyter.widget-view+json": {
       "model_id": "e9908eda0d2a4fe0bddc3ecba43a5753",
       "version_major": 2,
       "version_minor": 0
      },
      "text/plain": [
       "  ...ication/training_args.bin:   2%|1         |  96.0B / 5.84kB            "
      ]
     },
     "metadata": {},
     "output_type": "display_data"
    },
    {
     "data": {
      "application/vnd.google.colaboratory.intrinsic+json": {
       "type": "string"
      },
      "text/plain": [
       "CommitInfo(commit_url='https://huggingface.co/devangb4/bert-drug-classification/commit/b99530daebbab15092b094f2bf41d7df3a039380', commit_message='Finished 3 epochs on cleaned data, 75.4% accuracy', commit_description='', oid='b99530daebbab15092b094f2bf41d7df3a039380', pr_url=None, repo_url=RepoUrl('https://huggingface.co/devangb4/bert-drug-classification', endpoint='https://huggingface.co', repo_type='model', repo_id='devangb4/bert-drug-classification'), pr_revision=None, pr_num=None)"
      ]
     },
     "execution_count": 33,
     "metadata": {},
     "output_type": "execute_result"
    }
   ],
   "source": [
    "# Push the model to the Hugging Face Hub\n",
    "trainer.push_to_hub(commit_message=\"Finished 3 epochs on cleaned data, 75.4% accuracy\")"
   ]
  },
  {
   "cell_type": "code",
   "execution_count": null,
   "metadata": {
    "colab": {
     "base_uri": "https://localhost:8080/",
     "height": 214,
     "referenced_widgets": [
      "484270edc076425aa4ee9ce978e0d88c",
      "b1cb50bbb719419cb29740a4f5195c90",
      "9a1c2829647d46638afc59a1f23d8228",
      "4eb97277d757478fa0baa75265c26039",
      "a3b842a3daec45ad9778d6e9ad55ef85",
      "674a0913b2944de892514ccd745fff1c",
      "41b0cab833644ed38c9854a16d7d5e70",
      "346e3e62c6004beabc5c75a9f027ed64",
      "1e33824762004953b69f9309ed8ef431",
      "1f80c78815f140a6b6a863db50d2c208",
      "038504a94d6a4756a3196ed5e12d6471",
      "87faab38dfb546c7ab40dc439faff012",
      "426ebefd0eaf44d8bc4eca63b1a3ce46",
      "d4d66656d8444a43bd805152ee98358a",
      "09372dc1c6694bc7b7b91ec294d7f288",
      "91000fe79c3d4ebca068d2e2d956c82e",
      "db4263053d8144269a22dd9f8541228c",
      "b8cfc07291f74d6f8b0962d5b70a8b74",
      "e922e05ffb2e466d82369358c8f4ee0a",
      "0c12ce5c3fe9460f9fa8c36b16c19297",
      "93f2c634ee5f48daa1776debe586f644",
      "189d715d4a2f4aa49184128a72805018",
      "844a6ccaf3204699963fe391a9f0ce4b",
      "93126fc69b94415c880645fcbeb34378",
      "448ebd37fa2c4a4993c1041bf8136ca6",
      "c6850d78989942d987c953219418a663",
      "292182f2b4dc4d73810b415bcf9bf457",
      "511c0f0133d64fa591dbf9b7662e88f5",
      "327cdc90e6c54d559304bd6f728ab7a3",
      "080065fba23e46e292513f75286f8fe3",
      "bda735b9948f4578815b2374baf10e32",
      "2a5b9073c0144b1bb622d022e4e9d61f",
      "c90b20b4ced54e319e4b12ab3155c804",
      "332c0eefdd7e4fe7b7ecfd552d1d89d2",
      "05c0117f9d304c43823cf0789a83d7ff",
      "f044afa8b52d4e8eb472eea416b21008",
      "ad6af79bcd0f4438bc6b1bfda6490fa5",
      "2a324bf2eed64da5a0068b5dce78f69f",
      "3dee7728447c49feb31bce8a027864e5",
      "06a70aea93454f6ea90405b859e0286e",
      "657c256a906f4b38bb7450116735e65b",
      "8e846a57b4cf48daa855cf16ac214e14",
      "6b5ebd69c97d455eae2b3a4059d4b456",
      "c3b0b9b3bc7c43eb9b94e1f3b8479c65"
     ]
    },
    "id": "aQ6HBU5EbCI7",
    "outputId": "85961bce-0456-49f5-a3c0-4190a39ab117"
   },
   "outputs": [
    {
     "data": {
      "application/vnd.jupyter.widget-view+json": {
       "model_id": "484270edc076425aa4ee9ce978e0d88c",
       "version_major": 2,
       "version_minor": 0
      },
      "text/plain": [
       "README.md: 0.00B [00:00, ?B/s]"
      ]
     },
     "metadata": {},
     "output_type": "display_data"
    },
    {
     "data": {
      "application/vnd.jupyter.widget-view+json": {
       "model_id": "87faab38dfb546c7ab40dc439faff012",
       "version_major": 2,
       "version_minor": 0
      },
      "text/plain": [
       "Processing Files (0 / 0)                : |          |  0.00B /  0.00B            "
      ]
     },
     "metadata": {},
     "output_type": "display_data"
    },
    {
     "data": {
      "application/vnd.jupyter.widget-view+json": {
       "model_id": "844a6ccaf3204699963fe391a9f0ce4b",
       "version_major": 2,
       "version_minor": 0
      },
      "text/plain": [
       "New Data Upload                         : |          |  0.00B /  0.00B            "
      ]
     },
     "metadata": {},
     "output_type": "display_data"
    },
    {
     "data": {
      "application/vnd.jupyter.widget-view+json": {
       "model_id": "332c0eefdd7e4fe7b7ecfd552d1d89d2",
       "version_major": 2,
       "version_minor": 0
      },
      "text/plain": [
       "  /tmp/tmpdorvf8pu/model.safetensors    :   8%|7         | 33.5MB /  436MB            "
      ]
     },
     "metadata": {},
     "output_type": "display_data"
    },
    {
     "data": {
      "application/vnd.google.colaboratory.intrinsic+json": {
       "type": "string"
      },
      "text/plain": [
       "CommitInfo(commit_url='https://huggingface.co/devangb4/bert-drug-classification/commit/3784e5d46888b756f9f76b39b153a893e3d4307d', commit_message='Upload BertForSequenceClassification', commit_description='', oid='3784e5d46888b756f9f76b39b153a893e3d4307d', pr_url=None, repo_url=RepoUrl('https://huggingface.co/devangb4/bert-drug-classification', endpoint='https://huggingface.co', repo_type='model', repo_id='devangb4/bert-drug-classification'), pr_revision=None, pr_num=None)"
      ]
     },
     "execution_count": 26,
     "metadata": {},
     "output_type": "execute_result"
    }
   ],
   "source": [
    "# Add the id_to_label mapping to the model's configuration\n",
    "model.config.id2label = id_to_label\n",
    "\n",
    "# Push the model to the Hugging Face Hub\n",
    "model.push_to_hub(\"bert-drug-classification\")"
   ]
  },
  {
   "cell_type": "code",
   "execution_count": null,
   "metadata": {
    "colab": {
     "base_uri": "https://localhost:8080/",
     "height": 101,
     "referenced_widgets": [
      "e51c4386148240c49744cefb22049872",
      "9fd98134bd25405e8be8899c11455319",
      "722b5d3ef808414db6e3b77250a5f653",
      "15c3a0854eeb4b1b9a3d2b4e05263691",
      "5c540df83f7b4d21bb6e0f28faf2da5f",
      "3259218cb2204dc6854cce8a5e21f601",
      "0b78f4f2aae044dc8164c717210b4d55",
      "6482f5d07329450fb644b181a4ef55db",
      "d10c6f2854cb4de2831dcbddfc8a9a18",
      "4148edde272b4cc6964fe91541164ef2",
      "0369c43fe2e94800a8bdc5ad61557b03"
     ]
    },
    "id": "QCR9KZC-NtCM",
    "outputId": "06dcffb1-f3bb-4d77-ff9c-6ff7f6538fc9"
   },
   "outputs": [
    {
     "data": {
      "application/vnd.jupyter.widget-view+json": {
       "model_id": "e51c4386148240c49744cefb22049872",
       "version_major": 2,
       "version_minor": 0
      },
      "text/plain": [
       "README.md: 0.00B [00:00, ?B/s]"
      ]
     },
     "metadata": {},
     "output_type": "display_data"
    },
    {
     "data": {
      "application/vnd.google.colaboratory.intrinsic+json": {
       "type": "string"
      },
      "text/plain": [
       "CommitInfo(commit_url='https://huggingface.co/devangb4/bert-drug-classification/commit/deb3db1f82f8452f15cdcc369c274da1b7c9f7c7', commit_message='Upload tokenizer', commit_description='', oid='deb3db1f82f8452f15cdcc369c274da1b7c9f7c7', pr_url=None, repo_url=RepoUrl('https://huggingface.co/devangb4/bert-drug-classification', endpoint='https://huggingface.co', repo_type='model', repo_id='devangb4/bert-drug-classification'), pr_revision=None, pr_num=None)"
      ]
     },
     "execution_count": 18,
     "metadata": {},
     "output_type": "execute_result"
    }
   ],
   "source": [
    "tokenizer.push_to_hub(\"bert-drug-classification\")"
   ]
  },
  {
   "cell_type": "markdown",
   "metadata": {
    "id": "2eZxs_RNZSEp"
   },
   "source": [
    "# Playing Around"
   ]
  },
  {
   "cell_type": "code",
   "execution_count": null,
   "metadata": {
    "colab": {
     "base_uri": "https://localhost:8080/",
     "height": 226,
     "referenced_widgets": [
      "194e3fb83fa646f19560ae0a0d816c11",
      "da1a348420ab4deab64d7ac2a090ef87",
      "f4ac9d0a9ddd4bd9aa6790f50b16c80f",
      "ca4e5a53e9fd4ddbab1ed127891e3097",
      "19ee73a0126c4ba6851f779276871ccc",
      "22690ee2322347239f0ea40398128551",
      "9b5a022351e34f5f9ef6f8810de5329b",
      "e54843c9b99440ff98c5293004e7baf1",
      "ca241342117a47a2922c0cf7322eee0d",
      "1d639b9feb8c43ef83d83c89dbd922d7",
      "569e16636f9f4a8997f19ebeea69be02",
      "f1dd88d333bf44728cb619b9ab00f799",
      "f3414e577dbb402e94fa8254c5fbeae4",
      "983efef0097b40f589da462c0de9de31",
      "aa34ee015d1e462b84f715b35d8e69d5",
      "5473e90887b544ffbb2458ce521905a1",
      "bf00f7c0f7c2402f8a4f3cfe302a8fb9",
      "68884fd434df4449bef05ef3fda82c02",
      "3803036e00db4a808bbed8e982cc9bbf",
      "11a9dfc151cf486f9291f8f48888e8cf",
      "0d0e39a8d53e4fcd8bd0293c940ad1c7",
      "99d5d1a4260b47e5ac6e5ec9e2362dd2",
      "4fab8e9cbfaa44e9a6f67980467aa1fa",
      "0b327869286644d1850cfe9d2fa7082d",
      "0f8aeb79e5db47408f3585e224e627e8",
      "fd8cf95c91864eb8920ce6573a704940",
      "3989abb7464f47c6b490c7188b18e6f2",
      "b42f0ef2deeb4c12a53affb18f3344ad",
      "c46200e024e74af79bc6059158e6adf8",
      "34a4d165ec3944429fcb22aacf6e922a",
      "0999774d003a4065abc12dead37cf81a",
      "896fe3e113a44206a69ab8a218e650cc",
      "df8754999c4a44a3b1954482fedb7f8c",
      "a433a13a49cf4b08b25df5397630c43a",
      "1f7624cf1b824f11a48f22a5c941fb03",
      "24a85b26106b4959924a26bca9cf1c94",
      "8d62d09de96e4680be70656d543a4878",
      "5eff225b63854cd38aaa85c248d210a2",
      "860992d077b94c0e8c6d73ee785d0619",
      "afd44dc81a46453d91bca0247e893ce5",
      "174a95a3d60345adb4cdc2214194a595",
      "8fe94393b85e4a5bbdfbc238d678e0ef",
      "a96ff8fcca1e41ab8d3acf3760896e78",
      "f78f07d7fa1b484d90bc252464ca401f",
      "a6e8b60a5502438d8debf0364e4e9b2a",
      "23702a9073274b56943938710edac92a",
      "a37d460c1f72482fb36376e1d50af07b",
      "41a212b4373a449a82a5d3d2d6a09361",
      "2a52a60f019e4c55bd84e6f3250cf569",
      "ff275e41e1184b9592546ea0c4144baf",
      "87e0bf44a2764bf5994eba2b0d053f06",
      "88200ce0d6e84177b776ec54033e94c7",
      "7d0f8e1d0aa9436a9da7a8ebf555088c",
      "0ee27d7d8c444c918198a7dc03c9dea9",
      "3ce74ec832444b5f9313a1e8fe2ba44b",
      "64070fa4fb8e4801ae57b2b514ada94a",
      "a8b1ebfff1444ed1b95bf145949b05da",
      "8f501fbf7300429fa33227a0baa51282",
      "e5a7b2276c6e423aacc5bd55b68b4ecd",
      "b9a14853ca784f679141b4893d3cdf3f",
      "0feb70dc23ab4efb9c46e733607aec90",
      "6e3879701258471dade1d440a469ebd3",
      "cab5eed2bd08429eb6def69969cd6e18",
      "ce02ba889f9148ebbc37b3f5f58a3eb2",
      "b2d9d4c338354e7c929da7c2ab34e2b3",
      "d1900951ff894757a7232beee8870996"
     ]
    },
    "id": "19d4e06b",
    "outputId": "255307f8-81ed-43bc-8991-4eba09fca994"
   },
   "outputs": [
    {
     "data": {
      "application/vnd.jupyter.widget-view+json": {
       "model_id": "194e3fb83fa646f19560ae0a0d816c11",
       "version_major": 2,
       "version_minor": 0
      },
      "text/plain": [
       "config.json: 0.00B [00:00, ?B/s]"
      ]
     },
     "metadata": {},
     "output_type": "display_data"
    },
    {
     "data": {
      "application/vnd.jupyter.widget-view+json": {
       "model_id": "f1dd88d333bf44728cb619b9ab00f799",
       "version_major": 2,
       "version_minor": 0
      },
      "text/plain": [
       "model.safetensors:   0%|          | 0.00/436M [00:00<?, ?B/s]"
      ]
     },
     "metadata": {},
     "output_type": "display_data"
    },
    {
     "data": {
      "application/vnd.jupyter.widget-view+json": {
       "model_id": "4fab8e9cbfaa44e9a6f67980467aa1fa",
       "version_major": 2,
       "version_minor": 0
      },
      "text/plain": [
       "tokenizer_config.json: 0.00B [00:00, ?B/s]"
      ]
     },
     "metadata": {},
     "output_type": "display_data"
    },
    {
     "data": {
      "application/vnd.jupyter.widget-view+json": {
       "model_id": "a433a13a49cf4b08b25df5397630c43a",
       "version_major": 2,
       "version_minor": 0
      },
      "text/plain": [
       "vocab.txt: 0.00B [00:00, ?B/s]"
      ]
     },
     "metadata": {},
     "output_type": "display_data"
    },
    {
     "data": {
      "application/vnd.jupyter.widget-view+json": {
       "model_id": "a6e8b60a5502438d8debf0364e4e9b2a",
       "version_major": 2,
       "version_minor": 0
      },
      "text/plain": [
       "tokenizer.json: 0.00B [00:00, ?B/s]"
      ]
     },
     "metadata": {},
     "output_type": "display_data"
    },
    {
     "data": {
      "application/vnd.jupyter.widget-view+json": {
       "model_id": "64070fa4fb8e4801ae57b2b514ada94a",
       "version_major": 2,
       "version_minor": 0
      },
      "text/plain": [
       "special_tokens_map.json:   0%|          | 0.00/125 [00:00<?, ?B/s]"
      ]
     },
     "metadata": {},
     "output_type": "display_data"
    },
    {
     "name": "stderr",
     "output_type": "stream",
     "text": [
      "Device set to use cuda:0\n"
     ]
    }
   ],
   "source": [
    "from transformers import pipeline\n",
    "classifier = pipeline(\"text-classification\", model=\"devangb4/bert-drug-classification\")"
   ]
  },
  {
   "cell_type": "code",
   "execution_count": null,
   "metadata": {
    "colab": {
     "base_uri": "https://localhost:8080/"
    },
    "id": "33QTlzwLYyW9",
    "outputId": "b5c1d71b-098e-481c-caf8-fd5db41db979"
   },
   "outputs": [
    {
     "name": "stdout",
     "output_type": "stream",
     "text": [
      "[{'label': 'narcolepsy', 'score': 0.9791269898414612}]\n"
     ]
    }
   ],
   "source": [
    "# Test the pipeline with an example review\n",
    "example_review = \"A doctor in the ER prescribed me 200 mg of Provigil when I was first diagnosed with Narcolepsy. It didn\\'t seem to have any effect on me at all. Then I went to see my sleep doctor and he prescribed me 250 mg of Nuvigil. It finally allowed me to stay awake for an entire day. But if I went out somewhere I would be able to come home and take a nap and be fully awake again. Taking that with Xyrem makes me feel 98%..not quite 100, but still pretty great.\"\n",
    "prediction = classifier(example_review)\n",
    "print(prediction)"
   ]
  },
  {
   "cell_type": "code",
   "execution_count": null,
   "metadata": {
    "colab": {
     "base_uri": "https://localhost:8080/"
    },
    "id": "Md6x9xpvfLtk",
    "outputId": "4858e34d-b306-4b24-eb72-2dcd7d1985b1"
   },
   "outputs": [
    {
     "name": "stdout",
     "output_type": "stream",
     "text": [
      "{'patient_id': 213376, 'drugName': 'Nuvigil', 'condition': 'narcolepsy', 'review': '\"A doctor in the ER prescribed me 200 mg of Provigil when I was first diagnosed with Narcolepsy. It didn\\'t seem to have any effect on me at all. Then I went to see my sleep doctor and he prescribed me 250 mg of Nuvigil. It finally allowed me to stay awake for an entire day. But if I went out somewhere I would be able to come home and take a nap and be fully awake again. Taking that with Xyrem makes me feel 98%..not quite 100, but still pretty great.\"', 'rating': 9.0, 'date': 'June 30, 2010', 'usefulCount': 14, 'review_length': 459}\n"
     ]
    }
   ],
   "source": [
    "print(drug_dataset['test'][14])"
   ]
  },
  {
   "cell_type": "code",
   "execution_count": null,
   "metadata": {
    "id": "J7NIOISLTSlQ"
   },
   "outputs": [],
   "source": []
  }
 ],
 "metadata": {
  "colab": {
   "provenance": []
  },
  "kernelspec": {
   "display_name": "Python 3",
   "name": "python3"
  },
  "language_info": {
   "name": "python",
   "version": "3.8.0"
  }
 },
 "nbformat": 4,
 "nbformat_minor": 0
}